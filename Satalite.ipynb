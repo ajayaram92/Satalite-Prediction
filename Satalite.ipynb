{
  "nbformat": 4,
  "nbformat_minor": 0,
  "metadata": {
    "colab": {
      "name": "Satalite.ipynb",
      "provenance": [],
      "authorship_tag": "ABX9TyN02NrxSR/fsExKC844Fmuz",
      "include_colab_link": true
    },
    "kernelspec": {
      "name": "python3",
      "display_name": "Python 3"
    }
  },
  "cells": [
    {
      "cell_type": "markdown",
      "metadata": {
        "id": "view-in-github",
        "colab_type": "text"
      },
      "source": [
        "<a href=\"https://colab.research.google.com/github/ajayaram92/Satalite-Prediction/blob/main/Satalite.ipynb\" target=\"_parent\"><img src=\"https://colab.research.google.com/assets/colab-badge.svg\" alt=\"Open In Colab\"/></a>"
      ]
    },
    {
      "cell_type": "code",
      "metadata": {
        "id": "idLsHn_hWULo"
      },
      "source": [
        "\r\n",
        "import requests\r\n",
        "import pandas as pd\r\n",
        "import numpy as np"
      ],
      "execution_count": 40,
      "outputs": []
    },
    {
      "cell_type": "code",
      "metadata": {
        "id": "M-3D1Z0PWg3I"
      },
      "source": [
        "url = \"https://raw.githubusercontent.com/ajayaram92/Satalite-Prediction/main/Database.csv\"\r\n",
        "df = pd.read_csv(url)\r\n",
        "df = df.drop([\"objID\"], axis = 1)"
      ],
      "execution_count": 8,
      "outputs": []
    },
    {
      "cell_type": "code",
      "metadata": {
        "colab": {
          "base_uri": "https://localhost:8080/"
        },
        "id": "_mxzDtvqW9q1",
        "outputId": "8aca8193-2e88-4bb0-aed9-2338ee395e8b"
      },
      "source": [
        "print(df.loc[20])"
      ],
      "execution_count": 12,
      "outputs": [
        {
          "output_type": "stream",
          "text": [
            "Longitude      77.7444\n",
            "Latitude       19.1653\n",
            "B1              1531.5\n",
            "B10               13.5\n",
            "B11               2380\n",
            "B12               1983\n",
            "B2              1372.5\n",
            "B3                1308\n",
            "B4                1507\n",
            "B5                1499\n",
            "B6              1672.5\n",
            "B7              1854.5\n",
            "B8                1761\n",
            "B8A             1963.5\n",
            "B9               456.5\n",
            "pH                 8.7\n",
            "pH Category       SlAl\n",
            "EC               0.958\n",
            "EC Category          N\n",
            "OC               1.064\n",
            "OC Category         VH\n",
            "N                320.3\n",
            "N Category           M\n",
            "P                16.87\n",
            "P Category           M\n",
            "K                  221\n",
            "K Category           M\n",
            "S                140.3\n",
            "S Category           S\n",
            "Zn                 2.3\n",
            "Zn Category          S\n",
            "Fe                5.39\n",
            "Fe Category          S\n",
            "Cu                0.45\n",
            "Cu Category          S\n",
            "Mn                2.34\n",
            "Mn Category          S\n",
            "B                 0.34\n",
            "B Category           D\n",
            "Name: 20, dtype: object\n"
          ],
          "name": "stdout"
        }
      ]
    },
    {
      "cell_type": "code",
      "metadata": {
        "colab": {
          "base_uri": "https://localhost:8080/"
        },
        "id": "jBnZ1agcXs6P",
        "outputId": "c873ed75-449e-46bd-f56b-04b85457eddb"
      },
      "source": [
        "def cleaning(df, column):\r\n",
        "  column_names = df.columns\r\n",
        "   \r\n",
        "  new_columns= (list(column_names[0:15])) \r\n",
        "  new_columns.append(column)\r\n",
        "  #new_columns.append(str(column + \" Category\"))\r\n",
        "  new_pd = df[new_columns].dropna().reset_index()\r\n",
        "  new_pd = new_pd.drop([\"index\"], axis = 1)\r\n",
        "  return((new_pd))\r\n",
        "\r\n",
        "data = cleaning(df, \"pH\")\r\n",
        "print(data)"
      ],
      "execution_count": 36,
      "outputs": [
        {
          "output_type": "stream",
          "text": [
            "      Longitude   Latitude      B1   B10  ...      B8     B8A     B9    pH\n",
            "0     77.812500  18.751111  1482.0  21.0  ...  1464.5  1705.5  393.5  7.25\n",
            "1     77.433900  18.351600  1409.5  15.5  ...  1338.5  1495.0  352.0  7.18\n",
            "2     77.433900  18.350800  1415.0  16.0  ...  1334.5  1579.5  365.0  7.63\n",
            "3     77.558857  18.314899  1377.0  25.5  ...  1090.0  1247.0  323.5  7.48\n",
            "4     78.018333  19.870278  1424.0  11.0  ...  2106.0  2388.5  542.5  8.41\n",
            "...         ...        ...     ...   ...  ...     ...     ...    ...   ...\n",
            "9801  77.451160  19.241660  1408.0  11.5  ...  1747.5  2035.0  440.5  8.72\n",
            "9802  77.422618  18.327200  1378.5  16.0  ...  1372.0  1554.0  358.0  7.52\n",
            "9803  77.823333  18.843889  1449.5  21.0  ...  1458.0  1667.5  375.5  7.00\n",
            "9804  77.517882  18.467689  1442.5  14.5  ...  1731.0  2014.0  445.0  7.43\n",
            "9805  77.524953  18.538106  1425.5  17.5  ...  1436.0  1692.0  354.0  7.42\n",
            "\n",
            "[9806 rows x 16 columns]\n"
          ],
          "name": "stdout"
        }
      ]
    },
    {
      "cell_type": "code",
      "metadata": {
        "colab": {
          "base_uri": "https://localhost:8080/"
        },
        "id": "c8Cb7NJju6Or",
        "outputId": "3eda5716-9de9-49c2-ee3d-c96aee9b28b4"
      },
      "source": [
        "def splitting(data,training_split=0.8):\r\n",
        "  \r\n",
        "  data = data.to_numpy()\r\n",
        "  np.random.shuffle(data)\r\n",
        "  train_set= data[0:int(len(data)*training_split)]\r\n",
        "  test_set = data[int(len(data)*training_split):]\r\n",
        "  \r\n",
        "  print(len(data), len(train_set), len(test_set))\r\n",
        "\r\n",
        "splitting(data)\r\n",
        "  \r\n"
      ],
      "execution_count": 46,
      "outputs": [
        {
          "output_type": "stream",
          "text": [
            "9806 7844 1962\n"
          ],
          "name": "stdout"
        }
      ]
    }
  ]
}